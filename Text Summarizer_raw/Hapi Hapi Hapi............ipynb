{
 "cells": [
  {
   "cell_type": "code",
   "execution_count": 1,
   "id": "4c91d090",
   "metadata": {},
   "outputs": [
    {
     "name": "stdout",
     "output_type": "stream",
     "text": [
      "Defaulting to user installation because normal site-packages is not writeable\n",
      "Requirement already satisfied: happytransformer in c:\\users\\saiye\\appdata\\roaming\\python\\python311\\site-packages (3.0.0)\n",
      "Requirement already satisfied: torch>=1.0 in c:\\users\\saiye\\appdata\\roaming\\python\\python311\\site-packages (from happytransformer) (2.1.2)\n",
      "Requirement already satisfied: tqdm>=4.43 in d:\\anaconda\\lib\\site-packages (from happytransformer) (4.65.0)\n",
      "Requirement already satisfied: transformers<5.0.0,>=4.30.1 in d:\\anaconda\\lib\\site-packages (from happytransformer) (4.32.1)\n",
      "Requirement already satisfied: datasets<3.0.0,>=2.13.1 in c:\\users\\saiye\\appdata\\roaming\\python\\python311\\site-packages (from happytransformer) (2.16.1)\n",
      "Requirement already satisfied: sentencepiece in c:\\users\\saiye\\appdata\\roaming\\python\\python311\\site-packages (from happytransformer) (0.1.99)\n",
      "Requirement already satisfied: protobuf in c:\\users\\saiye\\appdata\\roaming\\python\\python311\\site-packages (from happytransformer) (4.25.2)\n",
      "Requirement already satisfied: accelerate<1.0.0,>=0.20.1 in c:\\users\\saiye\\appdata\\roaming\\python\\python311\\site-packages (from happytransformer) (0.26.1)\n",
      "Requirement already satisfied: tokenizers<1.0.0,>=0.13.3 in c:\\users\\saiye\\appdata\\roaming\\python\\python311\\site-packages (from happytransformer) (0.13.3)\n",
      "Requirement already satisfied: wandb in c:\\users\\saiye\\appdata\\roaming\\python\\python311\\site-packages (from happytransformer) (0.16.2)\n",
      "Requirement already satisfied: numpy>=1.17 in d:\\anaconda\\lib\\site-packages (from accelerate<1.0.0,>=0.20.1->happytransformer) (1.24.3)\n",
      "Requirement already satisfied: packaging>=20.0 in d:\\anaconda\\lib\\site-packages (from accelerate<1.0.0,>=0.20.1->happytransformer) (23.1)\n",
      "Requirement already satisfied: psutil in d:\\anaconda\\lib\\site-packages (from accelerate<1.0.0,>=0.20.1->happytransformer) (5.9.0)\n",
      "Requirement already satisfied: pyyaml in d:\\anaconda\\lib\\site-packages (from accelerate<1.0.0,>=0.20.1->happytransformer) (6.0)\n",
      "Requirement already satisfied: huggingface-hub in c:\\users\\saiye\\appdata\\roaming\\python\\python311\\site-packages (from accelerate<1.0.0,>=0.20.1->happytransformer) (0.20.3)\n",
      "Requirement already satisfied: safetensors>=0.3.1 in d:\\anaconda\\lib\\site-packages (from accelerate<1.0.0,>=0.20.1->happytransformer) (0.3.2)\n",
      "Requirement already satisfied: filelock in d:\\anaconda\\lib\\site-packages (from datasets<3.0.0,>=2.13.1->happytransformer) (3.9.0)\n",
      "Requirement already satisfied: pyarrow>=8.0.0 in d:\\anaconda\\lib\\site-packages (from datasets<3.0.0,>=2.13.1->happytransformer) (11.0.0)\n",
      "Requirement already satisfied: pyarrow-hotfix in c:\\users\\saiye\\appdata\\roaming\\python\\python311\\site-packages (from datasets<3.0.0,>=2.13.1->happytransformer) (0.6)\n",
      "Requirement already satisfied: dill<0.3.8,>=0.3.0 in d:\\anaconda\\lib\\site-packages (from datasets<3.0.0,>=2.13.1->happytransformer) (0.3.6)\n",
      "Requirement already satisfied: pandas in d:\\anaconda\\lib\\site-packages (from datasets<3.0.0,>=2.13.1->happytransformer) (2.0.3)\n",
      "Requirement already satisfied: requests>=2.19.0 in d:\\anaconda\\lib\\site-packages (from datasets<3.0.0,>=2.13.1->happytransformer) (2.31.0)\n",
      "Requirement already satisfied: xxhash in d:\\anaconda\\lib\\site-packages (from datasets<3.0.0,>=2.13.1->happytransformer) (2.0.2)\n",
      "Requirement already satisfied: multiprocess in d:\\anaconda\\lib\\site-packages (from datasets<3.0.0,>=2.13.1->happytransformer) (0.70.14)\n",
      "Requirement already satisfied: fsspec[http]<=2023.10.0,>=2023.1.0 in c:\\users\\saiye\\appdata\\roaming\\python\\python311\\site-packages (from datasets<3.0.0,>=2.13.1->happytransformer) (2023.10.0)\n",
      "Requirement already satisfied: aiohttp in d:\\anaconda\\lib\\site-packages (from datasets<3.0.0,>=2.13.1->happytransformer) (3.8.5)\n",
      "Requirement already satisfied: typing-extensions in d:\\anaconda\\lib\\site-packages (from torch>=1.0->happytransformer) (4.7.1)\n",
      "Requirement already satisfied: sympy in d:\\anaconda\\lib\\site-packages (from torch>=1.0->happytransformer) (1.11.1)\n",
      "Requirement already satisfied: networkx in d:\\anaconda\\lib\\site-packages (from torch>=1.0->happytransformer) (3.1)\n",
      "Requirement already satisfied: jinja2 in d:\\anaconda\\lib\\site-packages (from torch>=1.0->happytransformer) (3.1.2)\n",
      "Requirement already satisfied: colorama in d:\\anaconda\\lib\\site-packages (from tqdm>=4.43->happytransformer) (0.4.6)\n",
      "Requirement already satisfied: regex!=2019.12.17 in d:\\anaconda\\lib\\site-packages (from transformers<5.0.0,>=4.30.1->happytransformer) (2022.7.9)\n",
      "Requirement already satisfied: Click!=8.0.0,>=7.1 in d:\\anaconda\\lib\\site-packages (from wandb->happytransformer) (8.0.4)\n",
      "Requirement already satisfied: GitPython!=3.1.29,>=1.0.0 in c:\\users\\saiye\\appdata\\roaming\\python\\python311\\site-packages (from wandb->happytransformer) (3.1.41)\n",
      "Requirement already satisfied: sentry-sdk>=1.0.0 in c:\\users\\saiye\\appdata\\roaming\\python\\python311\\site-packages (from wandb->happytransformer) (1.39.2)\n",
      "Requirement already satisfied: docker-pycreds>=0.4.0 in c:\\users\\saiye\\appdata\\roaming\\python\\python311\\site-packages (from wandb->happytransformer) (0.4.0)\n",
      "Requirement already satisfied: setproctitle in c:\\users\\saiye\\appdata\\roaming\\python\\python311\\site-packages (from wandb->happytransformer) (1.3.3)\n",
      "Requirement already satisfied: setuptools in d:\\anaconda\\lib\\site-packages (from wandb->happytransformer) (68.0.0)\n",
      "Requirement already satisfied: appdirs>=1.4.3 in d:\\anaconda\\lib\\site-packages (from wandb->happytransformer) (1.4.4)\n",
      "Requirement already satisfied: six>=1.4.0 in d:\\anaconda\\lib\\site-packages (from docker-pycreds>=0.4.0->wandb->happytransformer) (1.16.0)\n",
      "Requirement already satisfied: attrs>=17.3.0 in d:\\anaconda\\lib\\site-packages (from aiohttp->datasets<3.0.0,>=2.13.1->happytransformer) (22.1.0)\n",
      "Requirement already satisfied: charset-normalizer<4.0,>=2.0 in d:\\anaconda\\lib\\site-packages (from aiohttp->datasets<3.0.0,>=2.13.1->happytransformer) (2.0.4)\n",
      "Requirement already satisfied: multidict<7.0,>=4.5 in d:\\anaconda\\lib\\site-packages (from aiohttp->datasets<3.0.0,>=2.13.1->happytransformer) (6.0.2)\n",
      "Requirement already satisfied: async-timeout<5.0,>=4.0.0a3 in d:\\anaconda\\lib\\site-packages (from aiohttp->datasets<3.0.0,>=2.13.1->happytransformer) (4.0.2)\n",
      "Requirement already satisfied: yarl<2.0,>=1.0 in d:\\anaconda\\lib\\site-packages (from aiohttp->datasets<3.0.0,>=2.13.1->happytransformer) (1.8.1)\n",
      "Requirement already satisfied: frozenlist>=1.1.1 in d:\\anaconda\\lib\\site-packages (from aiohttp->datasets<3.0.0,>=2.13.1->happytransformer) (1.3.3)\n",
      "Requirement already satisfied: aiosignal>=1.1.2 in d:\\anaconda\\lib\\site-packages (from aiohttp->datasets<3.0.0,>=2.13.1->happytransformer) (1.2.0)\n",
      "Requirement already satisfied: gitdb<5,>=4.0.1 in c:\\users\\saiye\\appdata\\roaming\\python\\python311\\site-packages (from GitPython!=3.1.29,>=1.0.0->wandb->happytransformer) (4.0.11)\n",
      "Requirement already satisfied: idna<4,>=2.5 in d:\\anaconda\\lib\\site-packages (from requests>=2.19.0->datasets<3.0.0,>=2.13.1->happytransformer) (3.4)\n",
      "Requirement already satisfied: urllib3<3,>=1.21.1 in d:\\anaconda\\lib\\site-packages (from requests>=2.19.0->datasets<3.0.0,>=2.13.1->happytransformer) (1.26.16)\n",
      "Requirement already satisfied: certifi>=2017.4.17 in d:\\anaconda\\lib\\site-packages (from requests>=2.19.0->datasets<3.0.0,>=2.13.1->happytransformer) (2023.7.22)\n",
      "Requirement already satisfied: MarkupSafe>=2.0 in d:\\anaconda\\lib\\site-packages (from jinja2->torch>=1.0->happytransformer) (2.1.1)\n",
      "Requirement already satisfied: python-dateutil>=2.8.2 in d:\\anaconda\\lib\\site-packages (from pandas->datasets<3.0.0,>=2.13.1->happytransformer) (2.8.2)\n",
      "Requirement already satisfied: pytz>=2020.1 in d:\\anaconda\\lib\\site-packages (from pandas->datasets<3.0.0,>=2.13.1->happytransformer) (2023.3.post1)\n",
      "Requirement already satisfied: tzdata>=2022.1 in d:\\anaconda\\lib\\site-packages (from pandas->datasets<3.0.0,>=2.13.1->happytransformer) (2023.3)\n",
      "Requirement already satisfied: mpmath>=0.19 in d:\\anaconda\\lib\\site-packages (from sympy->torch>=1.0->happytransformer) (1.3.0)\n",
      "Requirement already satisfied: smmap<6,>=3.0.1 in c:\\users\\saiye\\appdata\\roaming\\python\\python311\\site-packages (from gitdb<5,>=4.0.1->GitPython!=3.1.29,>=1.0.0->wandb->happytransformer) (5.0.1)\n"
     ]
    }
   ],
   "source": [
    "!pip install happytransformer"
   ]
  },
  {
   "cell_type": "code",
   "execution_count": 2,
   "id": "f8b8da71",
   "metadata": {},
   "outputs": [
    {
     "name": "stdout",
     "output_type": "stream",
     "text": [
      "Defaulting to user installation because normal site-packages is not writeable\n",
      "Requirement already satisfied: pandas in d:\\anaconda\\lib\\site-packages (2.0.3)\n",
      "Requirement already satisfied: python-dateutil>=2.8.2 in d:\\anaconda\\lib\\site-packages (from pandas) (2.8.2)\n",
      "Requirement already satisfied: pytz>=2020.1 in d:\\anaconda\\lib\\site-packages (from pandas) (2023.3.post1)\n",
      "Requirement already satisfied: tzdata>=2022.1 in d:\\anaconda\\lib\\site-packages (from pandas) (2023.3)\n",
      "Requirement already satisfied: numpy>=1.21.0 in d:\\anaconda\\lib\\site-packages (from pandas) (1.24.3)\n",
      "Requirement already satisfied: six>=1.5 in d:\\anaconda\\lib\\site-packages (from python-dateutil>=2.8.2->pandas) (1.16.0)\n"
     ]
    }
   ],
   "source": [
    "!pip install pandas"
   ]
  },
  {
   "cell_type": "code",
   "execution_count": 3,
   "id": "5cfa3557",
   "metadata": {},
   "outputs": [
    {
     "name": "stdout",
     "output_type": "stream",
     "text": [
      "Defaulting to user installation because normal site-packages is not writeable\n",
      "Requirement already satisfied: fsspec in c:\\users\\saiye\\appdata\\roaming\\python\\python311\\site-packages (2023.10.0)\n",
      "Collecting fsspec\n",
      "  Obtaining dependency information for fsspec from https://files.pythonhosted.org/packages/70/25/fab23259a52ece5670dcb8452e1af34b89e6135ecc17cd4b54b4b479eac6/fsspec-2023.12.2-py3-none-any.whl.metadata\n",
      "  Using cached fsspec-2023.12.2-py3-none-any.whl.metadata (6.8 kB)\n",
      "Downloading fsspec-2023.12.2-py3-none-any.whl (168 kB)\n",
      "   ---------------------------------------- 0.0/169.0 kB ? eta -:--:--\n",
      "   -- ------------------------------------- 10.2/169.0 kB ? eta -:--:--\n",
      "   -- ------------------------------------- 10.2/169.0 kB ? eta -:--:--\n",
      "   -- ------------------------------------- 10.2/169.0 kB ? eta -:--:--\n",
      "   ------- ------------------------------- 30.7/169.0 kB 119.1 kB/s eta 0:00:02\n",
      "   --------- ----------------------------- 41.0/169.0 kB 140.3 kB/s eta 0:00:01\n",
      "   -------------- ------------------------ 61.4/169.0 kB 204.8 kB/s eta 0:00:01\n",
      "   ------------------------- ------------ 112.6/169.0 kB 328.2 kB/s eta 0:00:01\n",
      "   -------------------------------------- 169.0/169.0 kB 442.2 kB/s eta 0:00:00\n",
      "Installing collected packages: fsspec\n",
      "  Attempting uninstall: fsspec\n",
      "    Found existing installation: fsspec 2023.10.0\n",
      "    Uninstalling fsspec-2023.10.0:\n",
      "      Successfully uninstalled fsspec-2023.10.0\n",
      "Successfully installed fsspec-2023.12.2\n"
     ]
    },
    {
     "name": "stderr",
     "output_type": "stream",
     "text": [
      "ERROR: pip's dependency resolver does not currently take into account all the packages that are installed. This behaviour is the source of the following dependency conflicts.\n",
      "datasets 2.16.1 requires fsspec[http]<=2023.10.0,>=2023.1.0, but you have fsspec 2023.12.2 which is incompatible.\n",
      "s3fs 2023.4.0 requires fsspec==2023.4.0, but you have fsspec 2023.12.2 which is incompatible.\n"
     ]
    }
   ],
   "source": [
    "!pip install --upgrade fsspec"
   ]
  },
  {
   "cell_type": "code",
   "execution_count": 4,
   "id": "7de12417",
   "metadata": {},
   "outputs": [
    {
     "name": "stdout",
     "output_type": "stream",
     "text": [
      "Defaulting to user installation because normal site-packages is not writeable\n",
      "Requirement already satisfied: datasets in c:\\users\\saiye\\appdata\\roaming\\python\\python311\\site-packages (2.16.1)\n",
      "Requirement already satisfied: filelock in d:\\anaconda\\lib\\site-packages (from datasets) (3.9.0)\n",
      "Requirement already satisfied: numpy>=1.17 in d:\\anaconda\\lib\\site-packages (from datasets) (1.24.3)\n",
      "Requirement already satisfied: pyarrow>=8.0.0 in d:\\anaconda\\lib\\site-packages (from datasets) (11.0.0)\n",
      "Requirement already satisfied: pyarrow-hotfix in c:\\users\\saiye\\appdata\\roaming\\python\\python311\\site-packages (from datasets) (0.6)\n",
      "Requirement already satisfied: dill<0.3.8,>=0.3.0 in d:\\anaconda\\lib\\site-packages (from datasets) (0.3.6)\n",
      "Requirement already satisfied: pandas in d:\\anaconda\\lib\\site-packages (from datasets) (2.0.3)\n",
      "Requirement already satisfied: requests>=2.19.0 in d:\\anaconda\\lib\\site-packages (from datasets) (2.31.0)\n",
      "Requirement already satisfied: tqdm>=4.62.1 in d:\\anaconda\\lib\\site-packages (from datasets) (4.65.0)\n",
      "Requirement already satisfied: xxhash in d:\\anaconda\\lib\\site-packages (from datasets) (2.0.2)\n",
      "Requirement already satisfied: multiprocess in d:\\anaconda\\lib\\site-packages (from datasets) (0.70.14)\n",
      "Collecting fsspec[http]<=2023.10.0,>=2023.1.0 (from datasets)\n",
      "  Obtaining dependency information for fsspec[http]<=2023.10.0,>=2023.1.0 from https://files.pythonhosted.org/packages/e8/f6/3eccfb530aac90ad1301c582da228e4763f19e719ac8200752a4841b0b2d/fsspec-2023.10.0-py3-none-any.whl.metadata\n",
      "  Using cached fsspec-2023.10.0-py3-none-any.whl.metadata (6.8 kB)\n",
      "Requirement already satisfied: aiohttp in d:\\anaconda\\lib\\site-packages (from datasets) (3.8.5)\n",
      "Requirement already satisfied: huggingface-hub>=0.19.4 in c:\\users\\saiye\\appdata\\roaming\\python\\python311\\site-packages (from datasets) (0.20.3)\n",
      "Requirement already satisfied: packaging in d:\\anaconda\\lib\\site-packages (from datasets) (23.1)\n",
      "Requirement already satisfied: pyyaml>=5.1 in d:\\anaconda\\lib\\site-packages (from datasets) (6.0)\n",
      "Requirement already satisfied: attrs>=17.3.0 in d:\\anaconda\\lib\\site-packages (from aiohttp->datasets) (22.1.0)\n",
      "Requirement already satisfied: charset-normalizer<4.0,>=2.0 in d:\\anaconda\\lib\\site-packages (from aiohttp->datasets) (2.0.4)\n",
      "Requirement already satisfied: multidict<7.0,>=4.5 in d:\\anaconda\\lib\\site-packages (from aiohttp->datasets) (6.0.2)\n",
      "Requirement already satisfied: async-timeout<5.0,>=4.0.0a3 in d:\\anaconda\\lib\\site-packages (from aiohttp->datasets) (4.0.2)\n",
      "Requirement already satisfied: yarl<2.0,>=1.0 in d:\\anaconda\\lib\\site-packages (from aiohttp->datasets) (1.8.1)\n",
      "Requirement already satisfied: frozenlist>=1.1.1 in d:\\anaconda\\lib\\site-packages (from aiohttp->datasets) (1.3.3)\n",
      "Requirement already satisfied: aiosignal>=1.1.2 in d:\\anaconda\\lib\\site-packages (from aiohttp->datasets) (1.2.0)\n",
      "Requirement already satisfied: typing-extensions>=3.7.4.3 in d:\\anaconda\\lib\\site-packages (from huggingface-hub>=0.19.4->datasets) (4.7.1)\n",
      "Requirement already satisfied: idna<4,>=2.5 in d:\\anaconda\\lib\\site-packages (from requests>=2.19.0->datasets) (3.4)\n",
      "Requirement already satisfied: urllib3<3,>=1.21.1 in d:\\anaconda\\lib\\site-packages (from requests>=2.19.0->datasets) (1.26.16)\n",
      "Requirement already satisfied: certifi>=2017.4.17 in d:\\anaconda\\lib\\site-packages (from requests>=2.19.0->datasets) (2023.7.22)\n",
      "Requirement already satisfied: colorama in d:\\anaconda\\lib\\site-packages (from tqdm>=4.62.1->datasets) (0.4.6)\n",
      "Requirement already satisfied: python-dateutil>=2.8.2 in d:\\anaconda\\lib\\site-packages (from pandas->datasets) (2.8.2)\n",
      "Requirement already satisfied: pytz>=2020.1 in d:\\anaconda\\lib\\site-packages (from pandas->datasets) (2023.3.post1)\n",
      "Requirement already satisfied: tzdata>=2022.1 in d:\\anaconda\\lib\\site-packages (from pandas->datasets) (2023.3)\n",
      "Requirement already satisfied: six>=1.5 in d:\\anaconda\\lib\\site-packages (from python-dateutil>=2.8.2->pandas->datasets) (1.16.0)\n",
      "Using cached fsspec-2023.10.0-py3-none-any.whl (166 kB)\n",
      "Installing collected packages: fsspec\n",
      "  Attempting uninstall: fsspec\n",
      "    Found existing installation: fsspec 2023.12.2\n",
      "    Uninstalling fsspec-2023.12.2:\n",
      "      Successfully uninstalled fsspec-2023.12.2\n",
      "Successfully installed fsspec-2023.10.0\n"
     ]
    },
    {
     "name": "stderr",
     "output_type": "stream",
     "text": [
      "ERROR: pip's dependency resolver does not currently take into account all the packages that are installed. This behaviour is the source of the following dependency conflicts.\n",
      "s3fs 2023.4.0 requires fsspec==2023.4.0, but you have fsspec 2023.10.0 which is incompatible.\n"
     ]
    },
    {
     "name": "stdout",
     "output_type": "stream",
     "text": [
      "Defaulting to user installation because normal site-packages is not writeable\n",
      "Requirement already satisfied: fsspec in c:\\users\\saiye\\appdata\\roaming\\python\\python311\\site-packages (2023.10.0)\n",
      "Collecting fsspec\n",
      "  Obtaining dependency information for fsspec from https://files.pythonhosted.org/packages/70/25/fab23259a52ece5670dcb8452e1af34b89e6135ecc17cd4b54b4b479eac6/fsspec-2023.12.2-py3-none-any.whl.metadata\n",
      "  Using cached fsspec-2023.12.2-py3-none-any.whl.metadata (6.8 kB)\n",
      "Using cached fsspec-2023.12.2-py3-none-any.whl (168 kB)\n",
      "Installing collected packages: fsspec\n",
      "  Attempting uninstall: fsspec\n",
      "    Found existing installation: fsspec 2023.10.0\n",
      "    Uninstalling fsspec-2023.10.0:\n",
      "      Successfully uninstalled fsspec-2023.10.0\n",
      "Successfully installed fsspec-2023.12.2\n"
     ]
    },
    {
     "name": "stderr",
     "output_type": "stream",
     "text": [
      "ERROR: pip's dependency resolver does not currently take into account all the packages that are installed. This behaviour is the source of the following dependency conflicts.\n",
      "datasets 2.16.1 requires fsspec[http]<=2023.10.0,>=2023.1.0, but you have fsspec 2023.12.2 which is incompatible.\n",
      "s3fs 2023.4.0 requires fsspec==2023.4.0, but you have fsspec 2023.12.2 which is incompatible.\n"
     ]
    }
   ],
   "source": [
    "!pip install --upgrade datasets\n",
    "!pip install --upgrade fsspec"
   ]
  },
  {
   "cell_type": "code",
   "execution_count": 6,
   "id": "50b610d2",
   "metadata": {},
   "outputs": [],
   "source": [
    "from tqdm import tqdm"
   ]
  },
  {
   "cell_type": "code",
   "execution_count": 7,
   "id": "f3545e1e",
   "metadata": {},
   "outputs": [],
   "source": [
    "from datasets import Dataset\n",
    "from dataclasses import dataclass\n",
    "from dataclasses import dataclass\n",
    "from typing import List, Union\n",
    "from datasets import Dataset\n",
    "from transformers import AutoModelForQuestionAnswering, DataCollatorWithPadding, QuestionAnsweringPipeline"
   ]
  },
  {
   "cell_type": "code",
   "execution_count": 2,
   "id": "7b3f25e1",
   "metadata": {},
   "outputs": [
    {
     "name": "stdout",
     "output_type": "stream",
     "text": [
      "Defaulting to user installation because normal site-packages is not writeable\n",
      "Requirement already satisfied: happytransformer in c:\\users\\saiye\\appdata\\roaming\\python\\python311\\site-packages (3.0.0)\n",
      "Requirement already satisfied: torch>=1.0 in c:\\users\\saiye\\appdata\\roaming\\python\\python311\\site-packages (from happytransformer) (2.1.2)\n",
      "Requirement already satisfied: tqdm>=4.43 in d:\\anaconda\\lib\\site-packages (from happytransformer) (4.65.0)\n",
      "Requirement already satisfied: transformers<5.0.0,>=4.30.1 in d:\\anaconda\\lib\\site-packages (from happytransformer) (4.32.1)\n",
      "Requirement already satisfied: datasets<3.0.0,>=2.13.1 in c:\\users\\saiye\\appdata\\roaming\\python\\python311\\site-packages (from happytransformer) (2.16.1)\n",
      "Requirement already satisfied: sentencepiece in c:\\users\\saiye\\appdata\\roaming\\python\\python311\\site-packages (from happytransformer) (0.1.99)\n",
      "Requirement already satisfied: protobuf in c:\\users\\saiye\\appdata\\roaming\\python\\python311\\site-packages (from happytransformer) (4.25.2)\n",
      "Requirement already satisfied: accelerate<1.0.0,>=0.20.1 in c:\\users\\saiye\\appdata\\roaming\\python\\python311\\site-packages (from happytransformer) (0.26.1)\n",
      "Requirement already satisfied: tokenizers<1.0.0,>=0.13.3 in c:\\users\\saiye\\appdata\\roaming\\python\\python311\\site-packages (from happytransformer) (0.13.3)\n",
      "Requirement already satisfied: wandb in c:\\users\\saiye\\appdata\\roaming\\python\\python311\\site-packages (from happytransformer) (0.16.2)\n",
      "Requirement already satisfied: numpy>=1.17 in d:\\anaconda\\lib\\site-packages (from accelerate<1.0.0,>=0.20.1->happytransformer) (1.24.3)\n",
      "Requirement already satisfied: packaging>=20.0 in d:\\anaconda\\lib\\site-packages (from accelerate<1.0.0,>=0.20.1->happytransformer) (23.1)\n",
      "Requirement already satisfied: psutil in d:\\anaconda\\lib\\site-packages (from accelerate<1.0.0,>=0.20.1->happytransformer) (5.9.0)\n",
      "Requirement already satisfied: pyyaml in d:\\anaconda\\lib\\site-packages (from accelerate<1.0.0,>=0.20.1->happytransformer) (6.0)\n",
      "Requirement already satisfied: huggingface-hub in c:\\users\\saiye\\appdata\\roaming\\python\\python311\\site-packages (from accelerate<1.0.0,>=0.20.1->happytransformer) (0.20.3)\n",
      "Requirement already satisfied: safetensors>=0.3.1 in d:\\anaconda\\lib\\site-packages (from accelerate<1.0.0,>=0.20.1->happytransformer) (0.3.2)\n",
      "Requirement already satisfied: filelock in d:\\anaconda\\lib\\site-packages (from datasets<3.0.0,>=2.13.1->happytransformer) (3.9.0)\n",
      "Requirement already satisfied: pyarrow>=8.0.0 in d:\\anaconda\\lib\\site-packages (from datasets<3.0.0,>=2.13.1->happytransformer) (11.0.0)\n",
      "Requirement already satisfied: pyarrow-hotfix in c:\\users\\saiye\\appdata\\roaming\\python\\python311\\site-packages (from datasets<3.0.0,>=2.13.1->happytransformer) (0.6)\n",
      "Requirement already satisfied: dill<0.3.8,>=0.3.0 in d:\\anaconda\\lib\\site-packages (from datasets<3.0.0,>=2.13.1->happytransformer) (0.3.6)\n",
      "Requirement already satisfied: pandas in d:\\anaconda\\lib\\site-packages (from datasets<3.0.0,>=2.13.1->happytransformer) (2.0.3)\n",
      "Requirement already satisfied: requests>=2.19.0 in d:\\anaconda\\lib\\site-packages (from datasets<3.0.0,>=2.13.1->happytransformer) (2.31.0)\n",
      "Requirement already satisfied: xxhash in d:\\anaconda\\lib\\site-packages (from datasets<3.0.0,>=2.13.1->happytransformer) (2.0.2)\n",
      "Requirement already satisfied: multiprocess in d:\\anaconda\\lib\\site-packages (from datasets<3.0.0,>=2.13.1->happytransformer) (0.70.14)\n",
      "Requirement already satisfied: fsspec[http]<=2023.10.0,>=2023.1.0 in c:\\users\\saiye\\appdata\\roaming\\python\\python311\\site-packages (from datasets<3.0.0,>=2.13.1->happytransformer) (2023.10.0)\n",
      "Requirement already satisfied: aiohttp in d:\\anaconda\\lib\\site-packages (from datasets<3.0.0,>=2.13.1->happytransformer) (3.8.5)\n",
      "Requirement already satisfied: typing-extensions in d:\\anaconda\\lib\\site-packages (from torch>=1.0->happytransformer) (4.7.1)\n",
      "Requirement already satisfied: sympy in d:\\anaconda\\lib\\site-packages (from torch>=1.0->happytransformer) (1.11.1)\n",
      "Requirement already satisfied: networkx in d:\\anaconda\\lib\\site-packages (from torch>=1.0->happytransformer) (3.1)\n",
      "Requirement already satisfied: jinja2 in d:\\anaconda\\lib\\site-packages (from torch>=1.0->happytransformer) (3.1.2)\n",
      "Requirement already satisfied: colorama in d:\\anaconda\\lib\\site-packages (from tqdm>=4.43->happytransformer) (0.4.6)\n",
      "Requirement already satisfied: regex!=2019.12.17 in d:\\anaconda\\lib\\site-packages (from transformers<5.0.0,>=4.30.1->happytransformer) (2022.7.9)\n",
      "Requirement already satisfied: Click!=8.0.0,>=7.1 in d:\\anaconda\\lib\\site-packages (from wandb->happytransformer) (8.0.4)\n",
      "Requirement already satisfied: GitPython!=3.1.29,>=1.0.0 in c:\\users\\saiye\\appdata\\roaming\\python\\python311\\site-packages (from wandb->happytransformer) (3.1.41)\n",
      "Requirement already satisfied: sentry-sdk>=1.0.0 in c:\\users\\saiye\\appdata\\roaming\\python\\python311\\site-packages (from wandb->happytransformer) (1.39.2)\n",
      "Requirement already satisfied: docker-pycreds>=0.4.0 in c:\\users\\saiye\\appdata\\roaming\\python\\python311\\site-packages (from wandb->happytransformer) (0.4.0)\n",
      "Requirement already satisfied: setproctitle in c:\\users\\saiye\\appdata\\roaming\\python\\python311\\site-packages (from wandb->happytransformer) (1.3.3)\n",
      "Requirement already satisfied: setuptools in d:\\anaconda\\lib\\site-packages (from wandb->happytransformer) (68.0.0)\n",
      "Requirement already satisfied: appdirs>=1.4.3 in d:\\anaconda\\lib\\site-packages (from wandb->happytransformer) (1.4.4)\n",
      "Requirement already satisfied: six>=1.4.0 in d:\\anaconda\\lib\\site-packages (from docker-pycreds>=0.4.0->wandb->happytransformer) (1.16.0)\n",
      "Requirement already satisfied: attrs>=17.3.0 in d:\\anaconda\\lib\\site-packages (from aiohttp->datasets<3.0.0,>=2.13.1->happytransformer) (22.1.0)\n",
      "Requirement already satisfied: charset-normalizer<4.0,>=2.0 in d:\\anaconda\\lib\\site-packages (from aiohttp->datasets<3.0.0,>=2.13.1->happytransformer) (2.0.4)\n",
      "Requirement already satisfied: multidict<7.0,>=4.5 in d:\\anaconda\\lib\\site-packages (from aiohttp->datasets<3.0.0,>=2.13.1->happytransformer) (6.0.2)\n",
      "Requirement already satisfied: async-timeout<5.0,>=4.0.0a3 in d:\\anaconda\\lib\\site-packages (from aiohttp->datasets<3.0.0,>=2.13.1->happytransformer) (4.0.2)\n",
      "Requirement already satisfied: yarl<2.0,>=1.0 in d:\\anaconda\\lib\\site-packages (from aiohttp->datasets<3.0.0,>=2.13.1->happytransformer) (1.8.1)\n",
      "Requirement already satisfied: frozenlist>=1.1.1 in d:\\anaconda\\lib\\site-packages (from aiohttp->datasets<3.0.0,>=2.13.1->happytransformer) (1.3.3)\n",
      "Requirement already satisfied: aiosignal>=1.1.2 in d:\\anaconda\\lib\\site-packages (from aiohttp->datasets<3.0.0,>=2.13.1->happytransformer) (1.2.0)\n",
      "Requirement already satisfied: gitdb<5,>=4.0.1 in c:\\users\\saiye\\appdata\\roaming\\python\\python311\\site-packages (from GitPython!=3.1.29,>=1.0.0->wandb->happytransformer) (4.0.11)\n",
      "Requirement already satisfied: idna<4,>=2.5 in d:\\anaconda\\lib\\site-packages (from requests>=2.19.0->datasets<3.0.0,>=2.13.1->happytransformer) (3.4)\n",
      "Requirement already satisfied: urllib3<3,>=1.21.1 in d:\\anaconda\\lib\\site-packages (from requests>=2.19.0->datasets<3.0.0,>=2.13.1->happytransformer) (1.26.16)\n",
      "Requirement already satisfied: certifi>=2017.4.17 in d:\\anaconda\\lib\\site-packages (from requests>=2.19.0->datasets<3.0.0,>=2.13.1->happytransformer) (2023.7.22)\n",
      "Requirement already satisfied: MarkupSafe>=2.0 in d:\\anaconda\\lib\\site-packages (from jinja2->torch>=1.0->happytransformer) (2.1.1)\n",
      "Requirement already satisfied: python-dateutil>=2.8.2 in d:\\anaconda\\lib\\site-packages (from pandas->datasets<3.0.0,>=2.13.1->happytransformer) (2.8.2)\n",
      "Requirement already satisfied: pytz>=2020.1 in d:\\anaconda\\lib\\site-packages (from pandas->datasets<3.0.0,>=2.13.1->happytransformer) (2023.3.post1)\n",
      "Requirement already satisfied: tzdata>=2022.1 in d:\\anaconda\\lib\\site-packages (from pandas->datasets<3.0.0,>=2.13.1->happytransformer) (2023.3)\n",
      "Requirement already satisfied: mpmath>=0.19 in d:\\anaconda\\lib\\site-packages (from sympy->torch>=1.0->happytransformer) (1.3.0)\n",
      "Requirement already satisfied: smmap<6,>=3.0.1 in c:\\users\\saiye\\appdata\\roaming\\python\\python311\\site-packages (from gitdb<5,>=4.0.1->GitPython!=3.1.29,>=1.0.0->wandb->happytransformer) (5.0.1)\n",
      "Note: you may need to restart the kernel to use updated packages.\n"
     ]
    }
   ],
   "source": [
    "pip install happytransformer --upgrade"
   ]
  },
  {
   "cell_type": "code",
   "execution_count": 3,
   "id": "04e06d7b",
   "metadata": {},
   "outputs": [],
   "source": [
    "from happytransformer import HappyGeneration"
   ]
  },
  {
   "cell_type": "code",
   "execution_count": 4,
   "id": "a4d36070",
   "metadata": {},
   "outputs": [],
   "source": [
    "from happytransformer import HappyTextToText"
   ]
  },
  {
   "cell_type": "code",
   "execution_count": 5,
   "id": "3a3fb86d",
   "metadata": {},
   "outputs": [
    {
     "data": {
      "application/vnd.jupyter.widget-view+json": {
       "model_id": "2be2b18666a24efc941a5c66faf53f44",
       "version_major": 2,
       "version_minor": 0
      },
      "text/plain": [
       "model.safetensors:   0%|          | 0.00/10.7G [00:00<?, ?B/s]"
      ]
     },
     "metadata": {},
     "output_type": "display_data"
    },
    {
     "name": "stderr",
     "output_type": "stream",
     "text": [
      "C:\\Users\\saiye\\AppData\\Roaming\\Python\\Python311\\site-packages\\huggingface_hub\\file_download.py:149: UserWarning: `huggingface_hub` cache-system uses symlinks by default to efficiently store duplicated files but your machine does not support them in C:\\Users\\saiye\\.cache\\huggingface\\hub\\models--EleutherAI--gpt-neo-2.7B. Caching files will still work but in a degraded version that might require more space on your disk. This warning can be disabled by setting the `HF_HUB_DISABLE_SYMLINKS_WARNING` environment variable. For more details, see https://huggingface.co/docs/huggingface_hub/how-to-cache#limitations.\n",
      "To support symlinks on Windows, you either need to activate Developer Mode or to run Python as an administrator. In order to see activate developer mode, see this article: https://docs.microsoft.com/en-us/windows/apps/get-started/enable-your-device-for-development\n",
      "  warnings.warn(message)\n"
     ]
    },
    {
     "data": {
      "application/vnd.jupyter.widget-view+json": {
       "model_id": "e4c12f8674484f009ff0307b973cecda",
       "version_major": 2,
       "version_minor": 0
      },
      "text/plain": [
       "tokenizer_config.json:   0%|          | 0.00/200 [00:00<?, ?B/s]"
      ]
     },
     "metadata": {},
     "output_type": "display_data"
    },
    {
     "data": {
      "application/vnd.jupyter.widget-view+json": {
       "model_id": "069bbe71855a4dc89e29e02738f09517",
       "version_major": 2,
       "version_minor": 0
      },
      "text/plain": [
       "vocab.json:   0%|          | 0.00/798k [00:00<?, ?B/s]"
      ]
     },
     "metadata": {},
     "output_type": "display_data"
    },
    {
     "data": {
      "application/vnd.jupyter.widget-view+json": {
       "model_id": "10b0a89043b64811abc8f3e53739fb10",
       "version_major": 2,
       "version_minor": 0
      },
      "text/plain": [
       "merges.txt:   0%|          | 0.00/456k [00:00<?, ?B/s]"
      ]
     },
     "metadata": {},
     "output_type": "display_data"
    },
    {
     "data": {
      "application/vnd.jupyter.widget-view+json": {
       "model_id": "22ec86c44fbb4503bbb1760733fd6b14",
       "version_major": 2,
       "version_minor": 0
      },
      "text/plain": [
       "special_tokens_map.json:   0%|          | 0.00/90.0 [00:00<?, ?B/s]"
      ]
     },
     "metadata": {},
     "output_type": "display_data"
    },
    {
     "name": "stderr",
     "output_type": "stream",
     "text": [
      "01/31/2024 22:26:12 - INFO - happytransformer.happy_transformer -   Using device: cpu\n",
      "Using pad_token, but it is not set yet.\n",
      "You are resizing the embedding layer without providing a `pad_to_multiple_of` parameter. This means that the new embeding dimension will be 50257. This might induce some performance reduction as *Tensor Cores* will not be available. For more details  about this, or help on choosing the correct value for resizing, refer to this guide: https://docs.nvidia.com/deeplearning/performance/dl-performance-matrix-multiplication/index.html#requirements-tc\n"
     ]
    }
   ],
   "source": [
    "happy_gen = HappyGeneration(\"GPT-NEO\", \"EleutherAI/gpt-neo-2.7B\")"
   ]
  },
  {
   "cell_type": "code",
   "execution_count": 7,
   "id": "c18f3afe",
   "metadata": {},
   "outputs": [
    {
     "name": "stderr",
     "output_type": "stream",
     "text": [
      "01/31/2024 22:36:18 - INFO - happytransformer.happy_transformer -   Moving model to cpu\n",
      "01/31/2024 22:36:18 - INFO - happytransformer.happy_transformer -   Initializing a pipeline\n",
      "Setting `pad_token_id` to `eos_token_id`:50256 for open-end generation.\n"
     ]
    }
   ],
   "source": [
    "result = happy_gen.generate_text(\"To solve world hunger we must invest in \")"
   ]
  },
  {
   "cell_type": "code",
   "execution_count": 8,
   "id": "39cd83bc",
   "metadata": {},
   "outputs": [
    {
     "name": "stdout",
     "output_type": "stream",
     "text": [
      "GenerationResult(text='\\nthe future.\\nWe must invest in education.\\nWe must invest in health.\\nWe must invest in infrastructure.\\nWe must invest in technology.\\nWe must invest in agriculture.\\nWe must invest in water.\\nWe must invest')\n"
     ]
    }
   ],
   "source": [
    "print(result)"
   ]
  },
  {
   "cell_type": "code",
   "execution_count": 9,
   "id": "adb7257e",
   "metadata": {},
   "outputs": [
    {
     "name": "stdout",
     "output_type": "stream",
     "text": [
      "\n",
      "the future.\n",
      "We must invest in education.\n",
      "We must invest in health.\n",
      "We must invest in infrastructure.\n",
      "We must invest in technology.\n",
      "We must invest in agriculture.\n",
      "We must invest in water.\n",
      "We must invest\n"
     ]
    }
   ],
   "source": [
    "print(result.text)"
   ]
  },
  {
   "cell_type": "code",
   "execution_count": 10,
   "id": "9f865d91",
   "metadata": {},
   "outputs": [],
   "source": [
    "from happytransformer import GENSettings"
   ]
  },
  {
   "cell_type": "code",
   "execution_count": 11,
   "id": "83d64ac5",
   "metadata": {},
   "outputs": [],
   "source": [
    "args = GENSettings(no_repeat_ngram_size=2)"
   ]
  },
  {
   "cell_type": "code",
   "execution_count": 12,
   "id": "25629512",
   "metadata": {},
   "outputs": [
    {
     "name": "stderr",
     "output_type": "stream",
     "text": [
      "Setting `pad_token_id` to `eos_token_id`:50256 for open-end generation.\n"
     ]
    }
   ],
   "source": [
    "result = happy_gen.generate_text(\"To solve world hunger we must invest in \", args=args)"
   ]
  },
  {
   "cell_type": "code",
   "execution_count": 13,
   "id": "e7dc5574",
   "metadata": {},
   "outputs": [
    {
     "name": "stdout",
     "output_type": "stream",
     "text": [
      "\n",
      "the future.\n",
      "We must make sure that every child in the world   has access to  a  nutritious  diet.  We must  make  sure  that  every  child  in\n",
      "this world has clean water. We\n"
     ]
    }
   ],
   "source": [
    "print(result.text)"
   ]
  },
  {
   "cell_type": "code",
   "execution_count": 14,
   "id": "4f4a8687",
   "metadata": {},
   "outputs": [],
   "source": [
    "top_k_sampling_settings = GENSettings(do_sample=True, early_stopping=False, top_k=50, temperature=0.7)"
   ]
  },
  {
   "cell_type": "code",
   "execution_count": 15,
   "id": "45d76073",
   "metadata": {},
   "outputs": [
    {
     "name": "stderr",
     "output_type": "stream",
     "text": [
      "Setting `pad_token_id` to `eos_token_id`:50256 for open-end generation.\n"
     ]
    }
   ],
   "source": [
    "result = happy_gen.generate_text(\"To solve world hunger we must invest in \", args=top_k_sampling_settings)"
   ]
  },
  {
   "cell_type": "code",
   "execution_count": 16,
   "id": "460d9a88",
   "metadata": {},
   "outputs": [
    {
     "name": "stdout",
     "output_type": "stream",
     "text": [
      "\n",
      "farming. In Africa we have to learn to grow \n",
      "crops in the soil. We have to improve \n",
      "water management, we have to reduce \n",
      "water consumption, and we have to \n",
      "reduce the use of chemical\n"
     ]
    }
   ],
   "source": [
    "print(result.text)"
   ]
  },
  {
   "cell_type": "code",
   "execution_count": 6,
   "id": "cf9fcb9c",
   "metadata": {},
   "outputs": [
    {
     "ename": "TypeError",
     "evalue": "HappyTextToText.__init__() got an unexpected keyword argument 'args'",
     "output_type": "error",
     "traceback": [
      "\u001b[1;31m---------------------------------------------------------------------------\u001b[0m",
      "\u001b[1;31mTypeError\u001b[0m                                 Traceback (most recent call last)",
      "Cell \u001b[1;32mIn[6], line 7\u001b[0m\n\u001b[0;32m      4\u001b[0m settings \u001b[38;5;241m=\u001b[39m TTSettings(num_beams\u001b[38;5;241m=\u001b[39m\u001b[38;5;241m5\u001b[39m, do_sample\u001b[38;5;241m=\u001b[39m\u001b[38;5;28;01mTrue\u001b[39;00m, top_k\u001b[38;5;241m=\u001b[39m\u001b[38;5;241m10\u001b[39m)\n\u001b[0;32m      6\u001b[0m \u001b[38;5;66;03m# Create HappyTextToText instance with custom settings\u001b[39;00m\n\u001b[1;32m----> 7\u001b[0m happy_tt \u001b[38;5;241m=\u001b[39m HappyTextToText(\u001b[38;5;124m\"\u001b[39m\u001b[38;5;124mT5\u001b[39m\u001b[38;5;124m\"\u001b[39m, \u001b[38;5;124m\"\u001b[39m\u001b[38;5;124mt5-base\u001b[39m\u001b[38;5;124m\"\u001b[39m, args\u001b[38;5;241m=\u001b[39msettings)\n",
      "\u001b[1;31mTypeError\u001b[0m: HappyTextToText.__init__() got an unexpected keyword argument 'args'"
     ]
    }
   ],
   "source": [
    "from happytransformer import HappyTextToText, TTSettings\n",
    "\n",
    "# Define custom settings for text generation\n",
    "settings = TTSettings(num_beams=5, do_sample=True, top_k=10)\n",
    "\n",
    "# Create HappyTextToText instance with custom settings\n",
    "happy_tt = HappyTextToText(\"T5\", \"t5-base\", args=settings)"
   ]
  },
  {
   "cell_type": "code",
   "execution_count": 21,
   "id": "d83a5300",
   "metadata": {},
   "outputs": [
    {
     "name": "stdout",
     "output_type": "stream",
     "text": [
      "Name: happytransformer\n",
      "Version: 3.0.0\n",
      "Summary: Happy Transformer makes it easy to fine-tune NLP Transformer models and use them for inference.\n",
      "Home-page: https://github.com/EricFillion/happy-transformer\n",
      "Author: The Happy Transformer Development Team\n",
      "Author-email: happytransformer@gmail.com\n",
      "License: Apache 2.0\n",
      "Location: c:\\users\\user\\anaconda3\\lib\\site-packages\n",
      "Requires: accelerate, datasets, protobuf, sentencepiece, tokenizers, torch, tqdm, transformers, wandb\n",
      "Required-by: \n",
      "---\n",
      "Name: datasets\n",
      "Version: 2.16.1\n",
      "Summary: HuggingFace community-driven open-source library of datasets\n",
      "Home-page: https://github.com/huggingface/datasets\n",
      "Author: HuggingFace Inc.\n",
      "Author-email: thomas@huggingface.co\n",
      "License: Apache 2.0\n",
      "Location: c:\\users\\user\\anaconda3\\lib\\site-packages\n",
      "Requires: aiohttp, dill, filelock, fsspec, huggingface-hub, multiprocess, numpy, packaging, pandas, pyarrow, pyarrow-hotfix, pyyaml, requests, tqdm, xxhash\n",
      "Required-by: happytransformer\n",
      "---\n",
      "Name: tqdm\n",
      "Version: 4.65.0\n",
      "Summary: Fast, Extensible Progress Meter\n",
      "Home-page: https://tqdm.github.io\n",
      "Author: \n",
      "Author-email: \n",
      "License: MPLv2.0, MIT Licences\n",
      "Location: c:\\users\\user\\anaconda3\\lib\\site-packages\n",
      "Requires: colorama\n",
      "Required-by: anaconda-client, anaconda-project, conda, conda-build, datasets, happytransformer, huggingface-hub, transformers\n",
      "Note: you may need to restart the kernel to use updated packages.\n"
     ]
    }
   ],
   "source": [
    "pip show happytransformer datasets tqdm"
   ]
  },
  {
   "cell_type": "code",
   "execution_count": null,
   "id": "9785a42c",
   "metadata": {},
   "outputs": [],
   "source": []
  }
 ],
 "metadata": {
  "kernelspec": {
   "display_name": "Python 3 (ipykernel)",
   "language": "python",
   "name": "python3"
  },
  "language_info": {
   "codemirror_mode": {
    "name": "ipython",
    "version": 3
   },
   "file_extension": ".py",
   "mimetype": "text/x-python",
   "name": "python",
   "nbconvert_exporter": "python",
   "pygments_lexer": "ipython3",
   "version": "3.11.5"
  }
 },
 "nbformat": 4,
 "nbformat_minor": 5
}
